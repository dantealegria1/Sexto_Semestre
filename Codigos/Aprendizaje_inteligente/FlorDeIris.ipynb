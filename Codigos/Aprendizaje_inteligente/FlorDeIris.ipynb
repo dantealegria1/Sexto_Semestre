{
 "cells": [
  {
   "cell_type": "markdown",
   "metadata": {},
   "source": [
    "## Universidad autonoma de aguascalientes\n",
    "### Dante Alejandro Alegria Romero\n",
    "### Practica numero 2 algoritmo de perceptron simple aplicado a la flor de iris\n",
    "### Cargar dos clases de la flor de iris, las caracteristicas que tomaremos en cuenta son la longitud y ancho del petalo"
   ]
  },
  {
   "cell_type": "code",
   "execution_count": 1,
   "metadata": {},
   "outputs": [
    {
     "name": "stderr",
     "output_type": "stream",
     "text": [
      "C:\\Users\\dante\\AppData\\Local\\Temp\\ipykernel_12588\\1115220327.py:3: DeprecationWarning: \n",
      "Pyarrow will become a required dependency of pandas in the next major release of pandas (pandas 3.0),\n",
      "(to allow more performant data types, such as the Arrow string type, and better interoperability with other libraries)\n",
      "but was not found to be installed on your system.\n",
      "If this would cause problems for you,\n",
      "please provide us feedback at https://github.com/pandas-dev/pandas/issues/54466\n",
      "        \n",
      "  import pandas as pd\n"
     ]
    }
   ],
   "source": [
    "import numpy as np\n",
    "import os\n",
    "import pandas as pd"
   ]
  },
  {
   "cell_type": "markdown",
   "metadata": {},
   "source": [
    "### Cargamos el dataset"
   ]
  },
  {
   "cell_type": "code",
   "execution_count": 2,
   "metadata": {},
   "outputs": [
    {
     "name": "stdout",
     "output_type": "stream",
     "text": [
      "(150, 5)\n",
      "   s.largo  s.ancho  p.largo  p.ancho    tipo\n",
      "0      5.1      3.5      1.4      0.2  setosa\n",
      "1      4.9      3.0      1.4      0.2  setosa\n",
      "2      4.7      3.2      1.3      0.2  setosa\n",
      "3      4.6      3.1      1.5      0.2  setosa\n",
      "4      5.0      3.6      1.4      0.2  setosa\n"
     ]
    }
   ],
   "source": [
    "df = pd.read_csv('iris.csv',delimiter = ';',decimal=\".\")\n",
    "print(df.shape)\n",
    "print(df.head())"
   ]
  },
  {
   "cell_type": "markdown",
   "metadata": {},
   "source": [
    "### \n",
    "Extraemos el largo sepal y el largo del petalo en las colummbas 0 y 2. Usaremos solo Setosa y versicolor"
   ]
  }
 ],
 "metadata": {
  "kernelspec": {
   "display_name": "Python 3",
   "language": "python",
   "name": "python3"
  },
  "language_info": {
   "codemirror_mode": {
    "name": "ipython",
    "version": 3
   },
   "file_extension": ".py",
   "mimetype": "text/x-python",
   "name": "python",
   "nbconvert_exporter": "python",
   "pygments_lexer": "ipython3",
   "version": "3.12.2"
  }
 },
 "nbformat": 4,
 "nbformat_minor": 2
}
